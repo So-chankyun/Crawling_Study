{
 "cells": [
  {
   "cell_type": "code",
   "execution_count": 2,
   "metadata": {},
   "outputs": [
    {
     "data": {
      "text/html": [
       "<div>\n",
       "<style scoped>\n",
       "    .dataframe tbody tr th:only-of-type {\n",
       "        vertical-align: middle;\n",
       "    }\n",
       "\n",
       "    .dataframe tbody tr th {\n",
       "        vertical-align: top;\n",
       "    }\n",
       "\n",
       "    .dataframe thead th {\n",
       "        text-align: right;\n",
       "    }\n",
       "</style>\n",
       "<table border=\"1\" class=\"dataframe\">\n",
       "  <thead>\n",
       "    <tr style=\"text-align: right;\">\n",
       "      <th></th>\n",
       "      <th>PassengerId</th>\n",
       "      <th>Survived</th>\n",
       "      <th>Pclass</th>\n",
       "      <th>Name</th>\n",
       "      <th>Sex</th>\n",
       "      <th>Age</th>\n",
       "      <th>SibSp</th>\n",
       "      <th>Parch</th>\n",
       "      <th>Ticket</th>\n",
       "      <th>Fare</th>\n",
       "      <th>Cabin</th>\n",
       "      <th>Embarked</th>\n",
       "    </tr>\n",
       "  </thead>\n",
       "  <tbody>\n",
       "    <tr>\n",
       "      <th>0</th>\n",
       "      <td>1</td>\n",
       "      <td>0</td>\n",
       "      <td>3</td>\n",
       "      <td>Braund, Mr. Owen Harris</td>\n",
       "      <td>male</td>\n",
       "      <td>22.0</td>\n",
       "      <td>1</td>\n",
       "      <td>0</td>\n",
       "      <td>A/5 21171</td>\n",
       "      <td>7.2500</td>\n",
       "      <td>NaN</td>\n",
       "      <td>S</td>\n",
       "    </tr>\n",
       "    <tr>\n",
       "      <th>1</th>\n",
       "      <td>2</td>\n",
       "      <td>1</td>\n",
       "      <td>1</td>\n",
       "      <td>Cumings, Mrs. John Bradley (Florence Briggs Th...</td>\n",
       "      <td>female</td>\n",
       "      <td>38.0</td>\n",
       "      <td>1</td>\n",
       "      <td>0</td>\n",
       "      <td>PC 17599</td>\n",
       "      <td>71.2833</td>\n",
       "      <td>C85</td>\n",
       "      <td>C</td>\n",
       "    </tr>\n",
       "    <tr>\n",
       "      <th>2</th>\n",
       "      <td>3</td>\n",
       "      <td>1</td>\n",
       "      <td>3</td>\n",
       "      <td>Heikkinen, Miss. Laina</td>\n",
       "      <td>female</td>\n",
       "      <td>26.0</td>\n",
       "      <td>0</td>\n",
       "      <td>0</td>\n",
       "      <td>STON/O2. 3101282</td>\n",
       "      <td>7.9250</td>\n",
       "      <td>NaN</td>\n",
       "      <td>S</td>\n",
       "    </tr>\n",
       "    <tr>\n",
       "      <th>3</th>\n",
       "      <td>4</td>\n",
       "      <td>1</td>\n",
       "      <td>1</td>\n",
       "      <td>Futrelle, Mrs. Jacques Heath (Lily May Peel)</td>\n",
       "      <td>female</td>\n",
       "      <td>35.0</td>\n",
       "      <td>1</td>\n",
       "      <td>0</td>\n",
       "      <td>113803</td>\n",
       "      <td>53.1000</td>\n",
       "      <td>C123</td>\n",
       "      <td>S</td>\n",
       "    </tr>\n",
       "    <tr>\n",
       "      <th>4</th>\n",
       "      <td>5</td>\n",
       "      <td>0</td>\n",
       "      <td>3</td>\n",
       "      <td>Allen, Mr. William Henry</td>\n",
       "      <td>male</td>\n",
       "      <td>35.0</td>\n",
       "      <td>0</td>\n",
       "      <td>0</td>\n",
       "      <td>373450</td>\n",
       "      <td>8.0500</td>\n",
       "      <td>NaN</td>\n",
       "      <td>S</td>\n",
       "    </tr>\n",
       "  </tbody>\n",
       "</table>\n",
       "</div>"
      ],
      "text/plain": [
       "   PassengerId  Survived  Pclass  \\\n",
       "0            1         0       3   \n",
       "1            2         1       1   \n",
       "2            3         1       3   \n",
       "3            4         1       1   \n",
       "4            5         0       3   \n",
       "\n",
       "                                                Name     Sex   Age  SibSp  \\\n",
       "0                            Braund, Mr. Owen Harris    male  22.0      1   \n",
       "1  Cumings, Mrs. John Bradley (Florence Briggs Th...  female  38.0      1   \n",
       "2                             Heikkinen, Miss. Laina  female  26.0      0   \n",
       "3       Futrelle, Mrs. Jacques Heath (Lily May Peel)  female  35.0      1   \n",
       "4                           Allen, Mr. William Henry    male  35.0      0   \n",
       "\n",
       "   Parch            Ticket     Fare Cabin Embarked  \n",
       "0      0         A/5 21171   7.2500   NaN        S  \n",
       "1      0          PC 17599  71.2833   C85        C  \n",
       "2      0  STON/O2. 3101282   7.9250   NaN        S  \n",
       "3      0            113803  53.1000  C123        S  \n",
       "4      0            373450   8.0500   NaN        S  "
      ]
     },
     "execution_count": 2,
     "metadata": {},
     "output_type": "execute_result"
    }
   ],
   "source": [
    "import numpy as np\n",
    "import pandas as pd\n",
    "import matplotlib.pyplot as plt\n",
    "import seaborn as sns\n",
    "import mglearn\n",
    "plt.style.use('fivethirtyeight')\n",
    "import warnings\n",
    "warnings.filterwarnings('ignore')\n",
    "%matplotlib inline\n",
    "\n",
    "data = pd.read_csv('./titanic/train.csv')\n",
    "\n",
    "data.head()"
   ]
  },
  {
   "cell_type": "code",
   "execution_count": 5,
   "metadata": {},
   "outputs": [
    {
     "data": {
      "text/html": [
       "<style  type=\"text/css\" >\n",
       "    #T_eed07fbb_0977_11eb_a3b9_983b8fad9539row0_col0 {\n",
       "            background-color:  #008066;\n",
       "            color:  #f1f1f1;\n",
       "        }    #T_eed07fbb_0977_11eb_a3b9_983b8fad9539row0_col1 {\n",
       "            background-color:  #008066;\n",
       "            color:  #f1f1f1;\n",
       "        }    #T_eed07fbb_0977_11eb_a3b9_983b8fad9539row1_col0 {\n",
       "            background-color:  #c4e266;\n",
       "            color:  #000000;\n",
       "        }    #T_eed07fbb_0977_11eb_a3b9_983b8fad9539row1_col1 {\n",
       "            background-color:  #77bb66;\n",
       "            color:  #000000;\n",
       "        }    #T_eed07fbb_0977_11eb_a3b9_983b8fad9539row2_col0 {\n",
       "            background-color:  #f9fc66;\n",
       "            color:  #000000;\n",
       "        }    #T_eed07fbb_0977_11eb_a3b9_983b8fad9539row2_col1 {\n",
       "            background-color:  #f0f866;\n",
       "            color:  #000000;\n",
       "        }    #T_eed07fbb_0977_11eb_a3b9_983b8fad9539row3_col0 {\n",
       "            background-color:  #fbfd66;\n",
       "            color:  #000000;\n",
       "        }    #T_eed07fbb_0977_11eb_a3b9_983b8fad9539row3_col1 {\n",
       "            background-color:  #fbfd66;\n",
       "            color:  #000000;\n",
       "        }    #T_eed07fbb_0977_11eb_a3b9_983b8fad9539row4_col0 {\n",
       "            background-color:  #f9fc66;\n",
       "            color:  #000000;\n",
       "        }    #T_eed07fbb_0977_11eb_a3b9_983b8fad9539row4_col1 {\n",
       "            background-color:  #fcfe66;\n",
       "            color:  #000000;\n",
       "        }    #T_eed07fbb_0977_11eb_a3b9_983b8fad9539row5_col0 {\n",
       "            background-color:  #ffff66;\n",
       "            color:  #000000;\n",
       "        }    #T_eed07fbb_0977_11eb_a3b9_983b8fad9539row5_col1 {\n",
       "            background-color:  #ffff66;\n",
       "            color:  #000000;\n",
       "        }    #T_eed07fbb_0977_11eb_a3b9_983b8fad9539row6_col0 {\n",
       "            background-color:  #fefe66;\n",
       "            color:  #000000;\n",
       "        }    #T_eed07fbb_0977_11eb_a3b9_983b8fad9539row6_col1 {\n",
       "            background-color:  #ffff66;\n",
       "            color:  #000000;\n",
       "        }</style><table id=\"T_eed07fbb_0977_11eb_a3b9_983b8fad9539\" ><thead>    <tr>        <th class=\"index_name level0\" >Survived</th>        <th class=\"col_heading level0 col0\" >0</th>        <th class=\"col_heading level0 col1\" >1</th>    </tr>    <tr>        <th class=\"index_name level0\" >SibSp</th>        <th class=\"blank\" ></th>        <th class=\"blank\" ></th>    </tr></thead><tbody>\n",
       "                <tr>\n",
       "                        <th id=\"T_eed07fbb_0977_11eb_a3b9_983b8fad9539level0_row0\" class=\"row_heading level0 row0\" >0</th>\n",
       "                        <td id=\"T_eed07fbb_0977_11eb_a3b9_983b8fad9539row0_col0\" class=\"data row0 col0\" >398</td>\n",
       "                        <td id=\"T_eed07fbb_0977_11eb_a3b9_983b8fad9539row0_col1\" class=\"data row0 col1\" >210</td>\n",
       "            </tr>\n",
       "            <tr>\n",
       "                        <th id=\"T_eed07fbb_0977_11eb_a3b9_983b8fad9539level0_row1\" class=\"row_heading level0 row1\" >1</th>\n",
       "                        <td id=\"T_eed07fbb_0977_11eb_a3b9_983b8fad9539row1_col0\" class=\"data row1 col0\" >97</td>\n",
       "                        <td id=\"T_eed07fbb_0977_11eb_a3b9_983b8fad9539row1_col1\" class=\"data row1 col1\" >112</td>\n",
       "            </tr>\n",
       "            <tr>\n",
       "                        <th id=\"T_eed07fbb_0977_11eb_a3b9_983b8fad9539level0_row2\" class=\"row_heading level0 row2\" >2</th>\n",
       "                        <td id=\"T_eed07fbb_0977_11eb_a3b9_983b8fad9539row2_col0\" class=\"data row2 col0\" >15</td>\n",
       "                        <td id=\"T_eed07fbb_0977_11eb_a3b9_983b8fad9539row2_col1\" class=\"data row2 col1\" >13</td>\n",
       "            </tr>\n",
       "            <tr>\n",
       "                        <th id=\"T_eed07fbb_0977_11eb_a3b9_983b8fad9539level0_row3\" class=\"row_heading level0 row3\" >3</th>\n",
       "                        <td id=\"T_eed07fbb_0977_11eb_a3b9_983b8fad9539row3_col0\" class=\"data row3 col0\" >12</td>\n",
       "                        <td id=\"T_eed07fbb_0977_11eb_a3b9_983b8fad9539row3_col1\" class=\"data row3 col1\" >4</td>\n",
       "            </tr>\n",
       "            <tr>\n",
       "                        <th id=\"T_eed07fbb_0977_11eb_a3b9_983b8fad9539level0_row4\" class=\"row_heading level0 row4\" >4</th>\n",
       "                        <td id=\"T_eed07fbb_0977_11eb_a3b9_983b8fad9539row4_col0\" class=\"data row4 col0\" >15</td>\n",
       "                        <td id=\"T_eed07fbb_0977_11eb_a3b9_983b8fad9539row4_col1\" class=\"data row4 col1\" >3</td>\n",
       "            </tr>\n",
       "            <tr>\n",
       "                        <th id=\"T_eed07fbb_0977_11eb_a3b9_983b8fad9539level0_row5\" class=\"row_heading level0 row5\" >5</th>\n",
       "                        <td id=\"T_eed07fbb_0977_11eb_a3b9_983b8fad9539row5_col0\" class=\"data row5 col0\" >5</td>\n",
       "                        <td id=\"T_eed07fbb_0977_11eb_a3b9_983b8fad9539row5_col1\" class=\"data row5 col1\" >0</td>\n",
       "            </tr>\n",
       "            <tr>\n",
       "                        <th id=\"T_eed07fbb_0977_11eb_a3b9_983b8fad9539level0_row6\" class=\"row_heading level0 row6\" >8</th>\n",
       "                        <td id=\"T_eed07fbb_0977_11eb_a3b9_983b8fad9539row6_col0\" class=\"data row6 col0\" >7</td>\n",
       "                        <td id=\"T_eed07fbb_0977_11eb_a3b9_983b8fad9539row6_col1\" class=\"data row6 col1\" >0</td>\n",
       "            </tr>\n",
       "    </tbody></table>"
      ],
      "text/plain": [
       "<pandas.io.formats.style.Styler at 0x280f148dd90>"
      ]
     },
     "execution_count": 5,
     "metadata": {},
     "output_type": "execute_result"
    }
   ],
   "source": [
    "pd.crosstab([data.SibSp],data.Survived).style.background_gradient(cmap='summer_r')"
   ]
  },
  {
   "cell_type": "code",
   "execution_count": 7,
   "metadata": {},
   "outputs": [
    {
     "data": {
      "image/png": "[encoded data removed]",
      "text/plain": [
       "<Figure size 1440x576 with 2 Axes>"
      ]
     },
     "metadata": {
      "needs_background": "light"
     },
     "output_type": "display_data"
    }
   ],
   "source": [
    "f,ax=plt.subplots(1,2,figsize=(20,8))\n",
    "sns.barplot('SibSp','Survived',data=data,ax=ax[0])\n",
    "ax[0].set_title('SibSp vs Survived')\n",
    "sns.factorplot('SibSp','Survived',data=data,ax=ax[1])\n",
    "ax[1].set_title('SibSp vs Survived')\n",
    "plt.close(2)\n",
    "plt.show()\n",
    "# 왜 꺾은선 그래프가 안나오지..."
   ]
  },
  {
   "cell_type": "code",
   "execution_count": 10,
   "metadata": {},
   "outputs": [
    {
     "data": {
      "text/html": [
       "<style  type=\"text/css\" >\n",
       "    #T_5fd3522f_0979_11eb_8d30_983b8fad9539row0_col0 {\n",
       "            background-color:  #008066;\n",
       "            color:  #f1f1f1;\n",
       "        }    #T_5fd3522f_0979_11eb_8d30_983b8fad9539row0_col1 {\n",
       "            background-color:  #008066;\n",
       "            color:  #f1f1f1;\n",
       "        }    #T_5fd3522f_0979_11eb_8d30_983b8fad9539row0_col2 {\n",
       "            background-color:  #008066;\n",
       "            color:  #f1f1f1;\n",
       "        }    #T_5fd3522f_0979_11eb_8d30_983b8fad9539row1_col0 {\n",
       "            background-color:  #7bbd66;\n",
       "            color:  #000000;\n",
       "        }    #T_5fd3522f_0979_11eb_8d30_983b8fad9539row1_col1 {\n",
       "            background-color:  #8ac466;\n",
       "            color:  #000000;\n",
       "        }    #T_5fd3522f_0979_11eb_8d30_983b8fad9539row1_col2 {\n",
       "            background-color:  #c6e266;\n",
       "            color:  #000000;\n",
       "        }    #T_5fd3522f_0979_11eb_8d30_983b8fad9539row2_col0 {\n",
       "            background-color:  #f6fa66;\n",
       "            color:  #000000;\n",
       "        }    #T_5fd3522f_0979_11eb_8d30_983b8fad9539row2_col1 {\n",
       "            background-color:  #eef666;\n",
       "            color:  #000000;\n",
       "        }    #T_5fd3522f_0979_11eb_8d30_983b8fad9539row2_col2 {\n",
       "            background-color:  #f8fc66;\n",
       "            color:  #000000;\n",
       "        }    #T_5fd3522f_0979_11eb_8d30_983b8fad9539row3_col0 {\n",
       "            background-color:  #fafc66;\n",
       "            color:  #000000;\n",
       "        }    #T_5fd3522f_0979_11eb_8d30_983b8fad9539row3_col1 {\n",
       "            background-color:  #fdfe66;\n",
       "            color:  #000000;\n",
       "        }    #T_5fd3522f_0979_11eb_8d30_983b8fad9539row3_col2 {\n",
       "            background-color:  #fafc66;\n",
       "            color:  #000000;\n",
       "        }    #T_5fd3522f_0979_11eb_8d30_983b8fad9539row4_col0 {\n",
       "            background-color:  #ffff66;\n",
       "            color:  #000000;\n",
       "        }    #T_5fd3522f_0979_11eb_8d30_983b8fad9539row4_col1 {\n",
       "            background-color:  #ffff66;\n",
       "            color:  #000000;\n",
       "        }    #T_5fd3522f_0979_11eb_8d30_983b8fad9539row4_col2 {\n",
       "            background-color:  #f6fa66;\n",
       "            color:  #000000;\n",
       "        }    #T_5fd3522f_0979_11eb_8d30_983b8fad9539row5_col0 {\n",
       "            background-color:  #ffff66;\n",
       "            color:  #000000;\n",
       "        }    #T_5fd3522f_0979_11eb_8d30_983b8fad9539row5_col1 {\n",
       "            background-color:  #ffff66;\n",
       "            color:  #000000;\n",
       "        }    #T_5fd3522f_0979_11eb_8d30_983b8fad9539row5_col2 {\n",
       "            background-color:  #ffff66;\n",
       "            color:  #000000;\n",
       "        }    #T_5fd3522f_0979_11eb_8d30_983b8fad9539row6_col0 {\n",
       "            background-color:  #ffff66;\n",
       "            color:  #000000;\n",
       "        }    #T_5fd3522f_0979_11eb_8d30_983b8fad9539row6_col1 {\n",
       "            background-color:  #ffff66;\n",
       "            color:  #000000;\n",
       "        }    #T_5fd3522f_0979_11eb_8d30_983b8fad9539row6_col2 {\n",
       "            background-color:  #fefe66;\n",
       "            color:  #000000;\n",
       "        }</style><table id=\"T_5fd3522f_0979_11eb_8d30_983b8fad9539\" ><thead>    <tr>        <th class=\"index_name level0\" >Pclass</th>        <th class=\"col_heading level0 col0\" >1</th>        <th class=\"col_heading level0 col1\" >2</th>        <th class=\"col_heading level0 col2\" >3</th>    </tr>    <tr>        <th class=\"index_name level0\" >SibSp</th>        <th class=\"blank\" ></th>        <th class=\"blank\" ></th>        <th class=\"blank\" ></th>    </tr></thead><tbody>\n",
       "                <tr>\n",
       "                        <th id=\"T_5fd3522f_0979_11eb_8d30_983b8fad9539level0_row0\" class=\"row_heading level0 row0\" >0</th>\n",
       "                        <td id=\"T_5fd3522f_0979_11eb_8d30_983b8fad9539row0_col0\" class=\"data row0 col0\" >137</td>\n",
       "                        <td id=\"T_5fd3522f_0979_11eb_8d30_983b8fad9539row0_col1\" class=\"data row0 col1\" >120</td>\n",
       "                        <td id=\"T_5fd3522f_0979_11eb_8d30_983b8fad9539row0_col2\" class=\"data row0 col2\" >351</td>\n",
       "            </tr>\n",
       "            <tr>\n",
       "                        <th id=\"T_5fd3522f_0979_11eb_8d30_983b8fad9539level0_row1\" class=\"row_heading level0 row1\" >1</th>\n",
       "                        <td id=\"T_5fd3522f_0979_11eb_8d30_983b8fad9539row1_col0\" class=\"data row1 col0\" >71</td>\n",
       "                        <td id=\"T_5fd3522f_0979_11eb_8d30_983b8fad9539row1_col1\" class=\"data row1 col1\" >55</td>\n",
       "                        <td id=\"T_5fd3522f_0979_11eb_8d30_983b8fad9539row1_col2\" class=\"data row1 col2\" >83</td>\n",
       "            </tr>\n",
       "            <tr>\n",
       "                        <th id=\"T_5fd3522f_0979_11eb_8d30_983b8fad9539level0_row2\" class=\"row_heading level0 row2\" >2</th>\n",
       "                        <td id=\"T_5fd3522f_0979_11eb_8d30_983b8fad9539row2_col0\" class=\"data row2 col0\" >5</td>\n",
       "                        <td id=\"T_5fd3522f_0979_11eb_8d30_983b8fad9539row2_col1\" class=\"data row2 col1\" >8</td>\n",
       "                        <td id=\"T_5fd3522f_0979_11eb_8d30_983b8fad9539row2_col2\" class=\"data row2 col2\" >15</td>\n",
       "            </tr>\n",
       "            <tr>\n",
       "                        <th id=\"T_5fd3522f_0979_11eb_8d30_983b8fad9539level0_row3\" class=\"row_heading level0 row3\" >3</th>\n",
       "                        <td id=\"T_5fd3522f_0979_11eb_8d30_983b8fad9539row3_col0\" class=\"data row3 col0\" >3</td>\n",
       "                        <td id=\"T_5fd3522f_0979_11eb_8d30_983b8fad9539row3_col1\" class=\"data row3 col1\" >1</td>\n",
       "                        <td id=\"T_5fd3522f_0979_11eb_8d30_983b8fad9539row3_col2\" class=\"data row3 col2\" >12</td>\n",
       "            </tr>\n",
       "            <tr>\n",
       "                        <th id=\"T_5fd3522f_0979_11eb_8d30_983b8fad9539level0_row4\" class=\"row_heading level0 row4\" >4</th>\n",
       "                        <td id=\"T_5fd3522f_0979_11eb_8d30_983b8fad9539row4_col0\" class=\"data row4 col0\" >0</td>\n",
       "                        <td id=\"T_5fd3522f_0979_11eb_8d30_983b8fad9539row4_col1\" class=\"data row4 col1\" >0</td>\n",
       "                        <td id=\"T_5fd3522f_0979_11eb_8d30_983b8fad9539row4_col2\" class=\"data row4 col2\" >18</td>\n",
       "            </tr>\n",
       "            <tr>\n",
       "                        <th id=\"T_5fd3522f_0979_11eb_8d30_983b8fad9539level0_row5\" class=\"row_heading level0 row5\" >5</th>\n",
       "                        <td id=\"T_5fd3522f_0979_11eb_8d30_983b8fad9539row5_col0\" class=\"data row5 col0\" >0</td>\n",
       "                        <td id=\"T_5fd3522f_0979_11eb_8d30_983b8fad9539row5_col1\" class=\"data row5 col1\" >0</td>\n",
       "                        <td id=\"T_5fd3522f_0979_11eb_8d30_983b8fad9539row5_col2\" class=\"data row5 col2\" >5</td>\n",
       "            </tr>\n",
       "            <tr>\n",
       "                        <th id=\"T_5fd3522f_0979_11eb_8d30_983b8fad9539level0_row6\" class=\"row_heading level0 row6\" >8</th>\n",
       "                        <td id=\"T_5fd3522f_0979_11eb_8d30_983b8fad9539row6_col0\" class=\"data row6 col0\" >0</td>\n",
       "                        <td id=\"T_5fd3522f_0979_11eb_8d30_983b8fad9539row6_col1\" class=\"data row6 col1\" >0</td>\n",
       "                        <td id=\"T_5fd3522f_0979_11eb_8d30_983b8fad9539row6_col2\" class=\"data row6 col2\" >7</td>\n",
       "            </tr>\n",
       "    </tbody></table>"
      ],
      "text/plain": [
       "<pandas.io.formats.style.Styler at 0x280f5149be0>"
      ]
     },
     "execution_count": 10,
     "metadata": {},
     "output_type": "execute_result"
    }
   ],
   "source": [
    "pd.crosstab(data.SibSp,data.Pclass).style.background_gradient(cmap='summer_r')\n",
    "# 생존자 중 SibSp가 1명인 사람의 생존자가 많았고, \n",
    "# 2명 이상 부터는 사망자가 더 많았다."
   ]
  },
  {
   "cell_type": "code",
   "execution_count": 14,
   "metadata": {},
   "outputs": [
    {
     "data": {
      "image/png": "[encoded data removed]",
      "text/plain": [
       "<Figure size 1440x576 with 2 Axes>"
      ]
     },
     "metadata": {
      "needs_background": "light"
     },
     "output_type": "display_data"
    }
   ],
   "source": [
    "f,ax=plt.subplots(1,2,figsize=(20,8))\n",
    "sns.barplot('SibSp','Survived',data=data,ax=ax[0])\n",
    "ax[0].set_title('SibSp vs Survived')\n",
    "sns.factorplot('SibSp','Survived',data=data,ax=ax[1])\n",
    "ax[1].set_title('SibSp vs Survived')\n",
    "plt.close(2)\n",
    "plt.show()\n",
    "# 꺾은선 그래프가 나오지 않음..."
   ]
  },
  {
   "cell_type": "code",
   "execution_count": 18,
   "metadata": {},
   "outputs": [
    {
     "data": {
      "text/html": [
       "<style  type=\"text/css\" >\n",
       "    #T_93b3eea1_097a_11eb_9134_983b8fad9539row0_col0 {\n",
       "            background-color:  #008066;\n",
       "            color:  #f1f1f1;\n",
       "        }    #T_93b3eea1_097a_11eb_9134_983b8fad9539row0_col1 {\n",
       "            background-color:  #008066;\n",
       "            color:  #f1f1f1;\n",
       "        }    #T_93b3eea1_097a_11eb_9134_983b8fad9539row0_col2 {\n",
       "            background-color:  #008066;\n",
       "            color:  #f1f1f1;\n",
       "        }    #T_93b3eea1_097a_11eb_9134_983b8fad9539row1_col0 {\n",
       "            background-color:  #cfe766;\n",
       "            color:  #000000;\n",
       "        }    #T_93b3eea1_097a_11eb_9134_983b8fad9539row1_col1 {\n",
       "            background-color:  #c2e066;\n",
       "            color:  #000000;\n",
       "        }    #T_93b3eea1_097a_11eb_9134_983b8fad9539row1_col2 {\n",
       "            background-color:  #dbed66;\n",
       "            color:  #000000;\n",
       "        }    #T_93b3eea1_097a_11eb_9134_983b8fad9539row2_col0 {\n",
       "            background-color:  #dfef66;\n",
       "            color:  #000000;\n",
       "        }    #T_93b3eea1_097a_11eb_9134_983b8fad9539row2_col1 {\n",
       "            background-color:  #e1f066;\n",
       "            color:  #000000;\n",
       "        }    #T_93b3eea1_097a_11eb_9134_983b8fad9539row2_col2 {\n",
       "            background-color:  #e3f166;\n",
       "            color:  #000000;\n",
       "        }    #T_93b3eea1_097a_11eb_9134_983b8fad9539row3_col0 {\n",
       "            background-color:  #ffff66;\n",
       "            color:  #000000;\n",
       "        }    #T_93b3eea1_097a_11eb_9134_983b8fad9539row3_col1 {\n",
       "            background-color:  #fcfe66;\n",
       "            color:  #000000;\n",
       "        }    #T_93b3eea1_097a_11eb_9134_983b8fad9539row3_col2 {\n",
       "            background-color:  #fefe66;\n",
       "            color:  #000000;\n",
       "        }    #T_93b3eea1_097a_11eb_9134_983b8fad9539row4_col0 {\n",
       "            background-color:  #fefe66;\n",
       "            color:  #000000;\n",
       "        }    #T_93b3eea1_097a_11eb_9134_983b8fad9539row4_col1 {\n",
       "            background-color:  #ffff66;\n",
       "            color:  #000000;\n",
       "        }    #T_93b3eea1_097a_11eb_9134_983b8fad9539row4_col2 {\n",
       "            background-color:  #fefe66;\n",
       "            color:  #000000;\n",
       "        }    #T_93b3eea1_097a_11eb_9134_983b8fad9539row5_col0 {\n",
       "            background-color:  #ffff66;\n",
       "            color:  #000000;\n",
       "        }    #T_93b3eea1_097a_11eb_9134_983b8fad9539row5_col1 {\n",
       "            background-color:  #ffff66;\n",
       "            color:  #000000;\n",
       "        }    #T_93b3eea1_097a_11eb_9134_983b8fad9539row5_col2 {\n",
       "            background-color:  #fdfe66;\n",
       "            color:  #000000;\n",
       "        }    #T_93b3eea1_097a_11eb_9134_983b8fad9539row6_col0 {\n",
       "            background-color:  #ffff66;\n",
       "            color:  #000000;\n",
       "        }    #T_93b3eea1_097a_11eb_9134_983b8fad9539row6_col1 {\n",
       "            background-color:  #ffff66;\n",
       "            color:  #000000;\n",
       "        }    #T_93b3eea1_097a_11eb_9134_983b8fad9539row6_col2 {\n",
       "            background-color:  #ffff66;\n",
       "            color:  #000000;\n",
       "        }</style><table id=\"T_93b3eea1_097a_11eb_9134_983b8fad9539\" ><thead>    <tr>        <th class=\"index_name level0\" >Pclass</th>        <th class=\"col_heading level0 col0\" >1</th>        <th class=\"col_heading level0 col1\" >2</th>        <th class=\"col_heading level0 col2\" >3</th>    </tr>    <tr>        <th class=\"index_name level0\" >Parch</th>        <th class=\"blank\" ></th>        <th class=\"blank\" ></th>        <th class=\"blank\" ></th>    </tr></thead><tbody>\n",
       "                <tr>\n",
       "                        <th id=\"T_93b3eea1_097a_11eb_9134_983b8fad9539level0_row0\" class=\"row_heading level0 row0\" >0</th>\n",
       "                        <td id=\"T_93b3eea1_097a_11eb_9134_983b8fad9539row0_col0\" class=\"data row0 col0\" >163</td>\n",
       "                        <td id=\"T_93b3eea1_097a_11eb_9134_983b8fad9539row0_col1\" class=\"data row0 col1\" >134</td>\n",
       "                        <td id=\"T_93b3eea1_097a_11eb_9134_983b8fad9539row0_col2\" class=\"data row0 col2\" >381</td>\n",
       "            </tr>\n",
       "            <tr>\n",
       "                        <th id=\"T_93b3eea1_097a_11eb_9134_983b8fad9539level0_row1\" class=\"row_heading level0 row1\" >1</th>\n",
       "                        <td id=\"T_93b3eea1_097a_11eb_9134_983b8fad9539row1_col0\" class=\"data row1 col0\" >31</td>\n",
       "                        <td id=\"T_93b3eea1_097a_11eb_9134_983b8fad9539row1_col1\" class=\"data row1 col1\" >32</td>\n",
       "                        <td id=\"T_93b3eea1_097a_11eb_9134_983b8fad9539row1_col2\" class=\"data row1 col2\" >55</td>\n",
       "            </tr>\n",
       "            <tr>\n",
       "                        <th id=\"T_93b3eea1_097a_11eb_9134_983b8fad9539level0_row2\" class=\"row_heading level0 row2\" >2</th>\n",
       "                        <td id=\"T_93b3eea1_097a_11eb_9134_983b8fad9539row2_col0\" class=\"data row2 col0\" >21</td>\n",
       "                        <td id=\"T_93b3eea1_097a_11eb_9134_983b8fad9539row2_col1\" class=\"data row2 col1\" >16</td>\n",
       "                        <td id=\"T_93b3eea1_097a_11eb_9134_983b8fad9539row2_col2\" class=\"data row2 col2\" >43</td>\n",
       "            </tr>\n",
       "            <tr>\n",
       "                        <th id=\"T_93b3eea1_097a_11eb_9134_983b8fad9539level0_row3\" class=\"row_heading level0 row3\" >3</th>\n",
       "                        <td id=\"T_93b3eea1_097a_11eb_9134_983b8fad9539row3_col0\" class=\"data row3 col0\" >0</td>\n",
       "                        <td id=\"T_93b3eea1_097a_11eb_9134_983b8fad9539row3_col1\" class=\"data row3 col1\" >2</td>\n",
       "                        <td id=\"T_93b3eea1_097a_11eb_9134_983b8fad9539row3_col2\" class=\"data row3 col2\" >3</td>\n",
       "            </tr>\n",
       "            <tr>\n",
       "                        <th id=\"T_93b3eea1_097a_11eb_9134_983b8fad9539level0_row4\" class=\"row_heading level0 row4\" >4</th>\n",
       "                        <td id=\"T_93b3eea1_097a_11eb_9134_983b8fad9539row4_col0\" class=\"data row4 col0\" >1</td>\n",
       "                        <td id=\"T_93b3eea1_097a_11eb_9134_983b8fad9539row4_col1\" class=\"data row4 col1\" >0</td>\n",
       "                        <td id=\"T_93b3eea1_097a_11eb_9134_983b8fad9539row4_col2\" class=\"data row4 col2\" >3</td>\n",
       "            </tr>\n",
       "            <tr>\n",
       "                        <th id=\"T_93b3eea1_097a_11eb_9134_983b8fad9539level0_row5\" class=\"row_heading level0 row5\" >5</th>\n",
       "                        <td id=\"T_93b3eea1_097a_11eb_9134_983b8fad9539row5_col0\" class=\"data row5 col0\" >0</td>\n",
       "                        <td id=\"T_93b3eea1_097a_11eb_9134_983b8fad9539row5_col1\" class=\"data row5 col1\" >0</td>\n",
       "                        <td id=\"T_93b3eea1_097a_11eb_9134_983b8fad9539row5_col2\" class=\"data row5 col2\" >5</td>\n",
       "            </tr>\n",
       "            <tr>\n",
       "                        <th id=\"T_93b3eea1_097a_11eb_9134_983b8fad9539level0_row6\" class=\"row_heading level0 row6\" >6</th>\n",
       "                        <td id=\"T_93b3eea1_097a_11eb_9134_983b8fad9539row6_col0\" class=\"data row6 col0\" >0</td>\n",
       "                        <td id=\"T_93b3eea1_097a_11eb_9134_983b8fad9539row6_col1\" class=\"data row6 col1\" >0</td>\n",
       "                        <td id=\"T_93b3eea1_097a_11eb_9134_983b8fad9539row6_col2\" class=\"data row6 col2\" >1</td>\n",
       "            </tr>\n",
       "    </tbody></table>"
      ],
      "text/plain": [
       "<pandas.io.formats.style.Styler at 0x280f7c330a0>"
      ]
     },
     "execution_count": 18,
     "metadata": {},
     "output_type": "execute_result"
    }
   ],
   "source": [
    "pd.crosstab(data.Parch,data.Pclass).style.background_gradient(cmap='summer_r')"
   ]
  },
  {
   "cell_type": "code",
   "execution_count": 20,
   "metadata": {},
   "outputs": [
    {
     "data": {
      "image/png": "[encoded data removed]",
      "text/plain": [
       "<Figure size 1440x576 with 2 Axes>"
      ]
     },
     "metadata": {
      "needs_background": "light"
     },
     "output_type": "display_data"
    }
   ],
   "source": [
    "f,ax=plt.subplots(1,2,figsize=(20,8))\n",
    "sns.barplot('Parch','Survived',data=data,ax=ax[0])\n",
    "ax[0].set_title('Parch vs Survived')\n",
    "sns.factorplot('Parch','Survived',data=data,ax=ax[1])\n",
    "ax[1].set_title('Parch vs Survived')\n",
    "plt.close(2)\n",
    "plt.show()"
   ]
  },
  {
   "cell_type": "code",
   "execution_count": 22,
   "metadata": {},
   "outputs": [
    {
     "name": "stdout",
     "output_type": "stream",
     "text": [
      "Highest Fare was :  512.3292\n",
      "Lowest Fare was :  0.0\n",
      "Average Fare was :  32.2042079685746\n"
     ]
    }
   ],
   "source": [
    "print('Highest Fare was : ',data['Fare'].max())\n",
    "print('Lowest Fare was : ',data['Fare'].min())\n",
    "print('Average Fare was : ',data['Fare'].mean())"
   ]
  },
  {
   "cell_type": "code",
   "execution_count": 23,
   "metadata": {},
   "outputs": [
    {
     "data": {
      "text/plain": [
       "<function matplotlib.pyplot.show(*args, **kw)>"
      ]
     },
     "execution_count": 23,
     "metadata": {},
     "output_type": "execute_result"
    },
    {
     "data": {
      "image/png": "[encoded data removed]",
      "text/plain": [
       "<Figure size 1440x576 with 3 Axes>"
      ]
     },
     "metadata": {
      "needs_background": "light"
     },
     "output_type": "display_data"
    }
   ],
   "source": [
    "f,ax = plt.subplots(1,3,figsize=(20,8))\n",
    "sns.distplot(data[data['Pclass']==1].Fare,ax=ax[0])\n",
    "ax[0].set_title('Fare in Pclass 1')\n",
    "sns.distplot(data[data['Pclass']==2].Fare,ax=ax[1])\n",
    "ax[1].set_title('Fare in Pclass 2')\n",
    "sns.distplot(data[data['Pclass']==3].Fare,ax=ax[2])\n",
    "ax[2].set_title('Fare in Pclass 3')\n",
    "plt.show"
   ]
  }
 ],
 "metadata": {
  "kernelspec": {
   "display_name": "Python 3",
   "language": "python",
   "name": "python3"
  },
  "language_info": {
   "codemirror_mode": {
    "name": "ipython",
    "version": 3
   },
   "file_extension": ".py",
   "mimetype": "text/x-python",
   "name": "python",
   "nbconvert_exporter": "python",
   "pygments_lexer": "ipython3",
   "version": "3.8.3"
  }
 },
 "nbformat": 4,
 "nbformat_minor": 4
}
